{
 "cells": [
  {
   "cell_type": "markdown",
   "metadata": {
    "colab_type": "text",
    "id": "view-in-github"
   },
   "source": [
    "<a href=\"https://colab.research.google.com/github/akashe/NLP/blob/main/Assignment1/test.ipynb\" target=\"_parent\"><img src=\"https://colab.research.google.com/assets/colab-badge.svg\" alt=\"Open In Colab\"/></a>"
   ]
  },
  {
   "cell_type": "markdown",
   "metadata": {
    "id": "kKoAVURLXVrx"
   },
   "source": [
    "## Question 1"
   ]
  },
  {
   "cell_type": "code",
   "execution_count": 1,
   "metadata": {},
   "outputs": [
    {
     "data": {
      "text/plain": [
       "[1, 33, 3, 99]"
      ]
     },
     "execution_count": 1,
     "metadata": {},
     "output_type": "execute_result"
    }
   ],
   "source": [
    "def fib(n):\n",
    "    a = 0\n",
    "    seq_ = [0]\n",
    "    for i in range(1,n):\n",
    "        seq_.append(i+a)\n",
    "        a =i\n",
    "    return seq_\n",
    "\n",
    "fib_numbers = fib(10000)\n",
    "test_sequence = [1,4,33,3,99,100]\n",
    "list(filter(lambda x:x in fib_numbers,test_sequence))"
   ]
  },
  {
   "cell_type": "markdown",
   "metadata": {},
   "source": [
    "## Question 2"
   ]
  },
  {
   "cell_type": "markdown",
   "metadata": {},
   "source": [
    "1."
   ]
  },
  {
   "cell_type": "code",
   "execution_count": 2,
   "metadata": {},
   "outputs": [
    {
     "name": "stdout",
     "output_type": "stream",
     "text": [
      "[(15, 37), (74, 64), (34, 68), (90, 10), (20, 15), (79, 66), (0, 57), (19, 42), (35, 49), (54, 21)]\n"
     ]
    },
    {
     "data": {
      "text/plain": [
       "[None, None, None, None, 35, None, 57, None, None, 75]"
      ]
     },
     "execution_count": 2,
     "metadata": {},
     "output_type": "execute_result"
    }
   ],
   "source": [
    "import random\n",
    "a = [random.randrange(100) for i in range(10)]\n",
    "b = [random.randrange(100) for i in range(10)]\n",
    "\n",
    "print(list(zip(a,b)))\n",
    "list(map(lambda x: x[0]+x[1] if (x[0]%2==0 and x[1]%2!=0) else None,list(zip(a,b))))"
   ]
  },
  {
   "cell_type": "markdown",
   "metadata": {},
   "source": [
    "2."
   ]
  },
  {
   "cell_type": "code",
   "execution_count": 3,
   "metadata": {},
   "outputs": [
    {
     "name": "stdout",
     "output_type": "stream",
     "text": [
      "ttqhdqldxb\n"
     ]
    },
    {
     "data": {
      "text/plain": [
       "['t', 't', 'q', 'h', 'd', 'q', 'l', 'd', 'x', 'b']"
      ]
     },
     "execution_count": 3,
     "metadata": {},
     "output_type": "execute_result"
    }
   ],
   "source": [
    "import string\n",
    "\n",
    "s = \"\".join(random.choice(string.ascii_lowercase) for i in range(10))\n",
    "print(s)\n",
    "vowels = {'a','e','i','o','u'}\n",
    "\n",
    "list(filter(lambda x: x not in vowels,s))"
   ]
  },
  {
   "cell_type": "markdown",
   "metadata": {},
   "source": [
    "3."
   ]
  },
  {
   "cell_type": "code",
   "execution_count": 4,
   "metadata": {},
   "outputs": [
    {
     "name": "stdout",
     "output_type": "stream",
     "text": [
      "[0.2760774129250301, -0.05068861765733677, -0.31735057398277, -0.5231908658201938, -0.7157398998224082, 1.584805242941726, -0.3176722801921608, 1.4401144460886177, 0.6256766821296945, 0.7356021267124222]\n"
     ]
    },
    {
     "data": {
      "text/plain": [
       "[0.2760774129250301,\n",
       " 0,\n",
       " 0,\n",
       " 0,\n",
       " 0,\n",
       " 1.584805242941726,\n",
       " 0,\n",
       " 1.4401144460886177,\n",
       " 0.6256766821296945,\n",
       " 0.7356021267124222]"
      ]
     },
     "execution_count": 4,
     "metadata": {},
     "output_type": "execute_result"
    }
   ],
   "source": [
    "array = [random.gauss(0,1) for i in range(10)]\n",
    "\n",
    "print(array)\n",
    "list(map(lambda x: x if x> 0 else 0,array))"
   ]
  },
  {
   "cell_type": "markdown",
   "metadata": {},
   "source": [
    "4."
   ]
  },
  {
   "cell_type": "code",
   "execution_count": 5,
   "metadata": {},
   "outputs": [
    {
     "name": "stdout",
     "output_type": "stream",
     "text": [
      "[1.8488490274434901, -1.1163742674847736, -1.0073267950959246, 0.9544200138482214, 6.10252861421234]\n"
     ]
    },
    {
     "data": {
      "text/plain": [
       "[0.8639919089859117,\n",
       " 0.2466844388713328,\n",
       " 0.2675033270320499,\n",
       " 0.722003209165686,\n",
       " 0.9977677903706985]"
      ]
     },
     "execution_count": 5,
     "metadata": {},
     "output_type": "execute_result"
    }
   ],
   "source": [
    "import math\n",
    "\n",
    "array = [random.gauss(0,2) for i in range(5)]\n",
    "\n",
    "print(array)\n",
    "list(map(lambda x: 1/(1+math.exp(-x)),array))\n"
   ]
  },
  {
   "cell_type": "markdown",
   "metadata": {},
   "source": [
    "5."
   ]
  },
  {
   "cell_type": "code",
   "execution_count": 6,
   "metadata": {},
   "outputs": [
    {
     "name": "stdout",
     "output_type": "stream",
     "text": [
      "xuasxusers\n"
     ]
    },
    {
     "data": {
      "text/plain": [
       "'zzfxzzxjwx'"
      ]
     },
     "execution_count": 6,
     "metadata": {},
     "output_type": "execute_result"
    }
   ],
   "source": [
    "s = \"\".join(random.choice(string.ascii_lowercase) for i in range(10))\n",
    "\n",
    "print(s)\n",
    "\"\".join(list(map(lambda x: chr(5 + ord(x)) if ord(x)<=ord('u') else 'z',s)))"
   ]
  },
  {
   "cell_type": "markdown",
   "metadata": {},
   "source": [
    "## Question 3: "
   ]
  },
  {
   "cell_type": "code",
   "execution_count": 7,
   "metadata": {},
   "outputs": [
    {
     "name": "stdout",
     "output_type": "stream",
     "text": [
      "True\n"
     ]
    }
   ],
   "source": [
    "import urllib.request\n",
    "import nltk\n",
    "from nltk import sent_tokenize\n",
    "from nltk import word_tokenize\n",
    "from functools import reduce\n",
    "# Random paragraph\n",
    "para = \"The National Aeronautics and Space Administration is an independent agency of the U.S. Federal Government responsible for the civilian space program, as well as aeronautics and space research.[note 1]\\\n",
    "NASA was fucking established in 1958, succeeding the National Advisory Committee for Aeronautics (NACA). The new agency was to have a distinctly civilian orientation, encouraging peaceful applications in space science.[7][8][9] Since its establishment, most US space exploration efforts have been led by NASA, including the Apollo Moon landing missions, the Skylab space station, and later the Space Shuttle. NASA is supporting the International Space Station and is overseeing the development of the Orion spacecraft, the Space Launch System, and Commercial Crew vehicles. The agency is also responsible for the Launch Services Program, which provides oversight of launch operations and countdown management for uncrewed NASA launches.\\\n",
    "NASA bloody science is focused on better understanding Earth through the Earth Observing System;[10] advancing heliophysics through the efforts of the Science Mission Directorate's Heliophysics Research Program;[11] exploring bodies throughout the Solar System with advanced robotic spacecraft such as New Horizons;[12]\"\n",
    "\n",
    "\n",
    "# Getting swear words\n",
    "swear_url = \"https://raw.githubusercontent.com/RobertJGabriel/Google-profanity-words/master/list.txt\"\n",
    "response = urllib.request.urlopen(swear_url)\n",
    "long_txt = response.read().decode()\n",
    "swear_words = long_txt.splitlines()\n",
    "\n",
    "a =[True if i in swear_words else False for j in sent_tokenize(para) for i in word_tokenize(j)]\n",
    "print(reduce(lambda x,y: x or y,a ))\n"
   ]
  },
  {
   "cell_type": "markdown",
   "metadata": {},
   "source": [
    "## Question 4"
   ]
  },
  {
   "cell_type": "markdown",
   "metadata": {},
   "source": [
    "1."
   ]
  },
  {
   "cell_type": "code",
   "execution_count": 8,
   "metadata": {},
   "outputs": [
    {
     "name": "stdout",
     "output_type": "stream",
     "text": [
      "[32, 63, 0, 58, 62, 39, 10, 85, 8, 16]\n",
      " Sum of even number 186\n"
     ]
    }
   ],
   "source": [
    "l = [random.randrange(100) for i in range(10)]\n",
    "print(l)\n",
    "print(\" Sum of even number {}\".format(reduce(lambda x,y: x+y if y%2==0 else x,l,0)))\n"
   ]
  },
  {
   "cell_type": "markdown",
   "metadata": {},
   "source": [
    "2."
   ]
  },
  {
   "cell_type": "code",
   "execution_count": 9,
   "metadata": {},
   "outputs": [
    {
     "name": "stdout",
     "output_type": "stream",
     "text": [
      "['k', 'o', '?', 'g', 't', '(', 'E', 'z', 'B', 'j']\n",
      "biggest printable character is s z\n"
     ]
    }
   ],
   "source": [
    "s = [random.choice(string.printable) for i in range(10)]\n",
    "print(s)\n",
    "print(f'biggest printable character is s {chr(reduce(lambda x,y: x if x >ord(y) else ord(y),s,32))}')"
   ]
  },
  {
   "cell_type": "markdown",
   "metadata": {},
   "source": [
    "3."
   ]
  },
  {
   "cell_type": "code",
   "execution_count": 10,
   "metadata": {},
   "outputs": [
    {
     "name": "stdout",
     "output_type": "stream",
     "text": [
      "[21, 42, 23, 0, 79, 19, 49, 97, 20, 1]\n",
      "Sum of every 3rd number 71\n"
     ]
    }
   ],
   "source": [
    "l = [random.randrange(100) for i in range(10)]\n",
    "print(l)\n",
    "print(f'Sum of every 3rd number {reduce(lambda sum_pos,x: (sum_pos[0]+x,sum_pos[1]+1) if sum_pos[1]%3==0 else (sum_pos[0],sum_pos[1]+1),l,(0,0))[0]}')"
   ]
  },
  {
   "cell_type": "markdown",
   "metadata": {},
   "source": [
    "## Question 5"
   ]
  },
  {
   "cell_type": "code",
   "execution_count": 11,
   "metadata": {},
   "outputs": [
    {
     "name": "stdout",
     "output_type": "stream",
     "text": [
      "['KA41GD2603', 'KA65KL1806', 'KA92GI8297', 'KA15QT5474', 'KA50LR4842', 'KA31ER8252', 'KA76XU8269', 'KA35MS8317', 'KA47PL8866', 'KA20FR9260', 'KA67VX5611', 'KA12WN4147', 'KA85UF9626', 'KA40RN8662', 'KA90YE5054']\n"
     ]
    }
   ],
   "source": [
    "print([\"\".join(['KA', \\\n",
    "                '{:02d}'.format(random.randint(10,99)),\\\n",
    "                random.choice(string.ascii_uppercase),\\\n",
    "               random.choice(string.ascii_uppercase), \\\n",
    "               '{:04d}'.format(random.randint(1000,9999))])for i in range(15)])"
   ]
  },
  {
   "cell_type": "markdown",
   "metadata": {},
   "source": [
    "## Question 6"
   ]
  },
  {
   "cell_type": "code",
   "execution_count": 12,
   "metadata": {},
   "outputs": [
    {
     "name": "stdout",
     "output_type": "stream",
     "text": [
      "Enter lower range of last 4 digitschar\n",
      "Quit poking holes\n",
      "Enter lower range of last 4 digits-1\n",
      "please enter a number between 0 and 4999\n",
      "Enter lower range of last 4 digits100\n",
      "Enter an upper range for last 4 digits100001\n",
      "please enter a number between 5000 and 9999\n",
      "Enter an upper range for last 4 digits7000\n",
      "['DL82HH6950', 'DL47NP3033', 'DL50TO3173', 'DL61WS2020', 'DL96EJ5319', 'DL66MQ4579', 'DL56AH4404', 'DL93JT3567', 'DL91BJ2670', 'DL50FU2860', 'DL62FR6734', 'DL39RK2328', 'DL51TQ4943', 'DL35WJ0659', 'DL33OW5326']\n"
     ]
    }
   ],
   "source": [
    "while True:\n",
    "    try:\n",
    "        lower_range = int(input(\"Enter lower range of last 4 digits\"))\n",
    "        if not (lower_range >=0 and lower_range<5000):\n",
    "            print(\"please enter a number between 0 and 4999\")\n",
    "        else:\n",
    "            break\n",
    "    except: print(\"Quit poking holes\")\n",
    "    finally: pass\n",
    "while True:\n",
    "    try:\n",
    "        upper_range = int(input(\"Enter an upper range for last 4 digits\"))\n",
    "        if not (upper_range >= 5000 and upper_range <= 9999):\n",
    "            print(\"please enter a number between 5000 and 9999\")\n",
    "        else:\n",
    "            break\n",
    "    except: print(\"Stop messing around\")\n",
    "    finally: pass\n",
    "print([\"\".join(['DL', \\\n",
    "                '{:02d}'.format(random.randint(10,99)),\\\n",
    "                random.choice(string.ascii_uppercase),\\\n",
    "               random.choice(string.ascii_uppercase), \\\n",
    "               '{:04d}'.format(random.randint(lower_range,upper_range))])for i in range(15)])\n",
    "        \n"
   ]
  }
 ],
 "metadata": {
  "colab": {
   "authorship_tag": "ABX9TyMUImmd99d7DZWZcFoJirb0",
   "include_colab_link": true,
   "name": "Untitled1.ipynb",
   "provenance": []
  },
  "kernelspec": {
   "display_name": "Python 3",
   "language": "python",
   "name": "python3"
  },
  "language_info": {
   "codemirror_mode": {
    "name": "ipython",
    "version": 3
   },
   "file_extension": ".py",
   "mimetype": "text/x-python",
   "name": "python",
   "nbconvert_exporter": "python",
   "pygments_lexer": "ipython3",
   "version": "3.7.9"
  }
 },
 "nbformat": 4,
 "nbformat_minor": 1
}
