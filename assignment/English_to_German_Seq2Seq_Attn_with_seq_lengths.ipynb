{
  "nbformat": 4,
  "nbformat_minor": 0,
  "metadata": {
    "colab": {
      "name": "English to German Seq2Seq Attn with seq lengths.ipynb",
      "provenance": [],
      "authorship_tag": "ABX9TyNbsJIAqrrvwtYfgS0QtW5+",
      "include_colab_link": true
    },
    "kernelspec": {
      "name": "python3",
      "display_name": "Python 3"
    },
    "accelerator": "GPU"
  },
  "cells": [
    {
      "cell_type": "markdown",
      "metadata": {
        "id": "view-in-github",
        "colab_type": "text"
      },
      "source": [
        "<a href=\"https://colab.research.google.com/github/akashe/NLP/blob/main/assignment/English_to_German_Seq2Seq_Attn_with_seq_lengths.ipynb\" target=\"_parent\"><img src=\"https://colab.research.google.com/assets/colab-badge.svg\" alt=\"Open In Colab\"/></a>"
      ]
    },
    {
      "cell_type": "markdown",
      "metadata": {
        "id": "IuZbE99gRX0n"
      },
      "source": [
        "Code for English to German translation using Seq2Seq architecture with packed sequences, attention masking and BLEU scores. Note: the german translations are in reverse order"
      ]
    },
    {
      "cell_type": "code",
      "metadata": {
        "colab": {
          "base_uri": "https://localhost:8080/"
        },
        "id": "U0x4-zVucW6A",
        "outputId": "2ba5ee7d-27b0-42bd-ca66-167fef16106e"
      },
      "source": [
        "!pip install torchtext==0.5.0 "
      ],
      "execution_count": 1,
      "outputs": [
        {
          "output_type": "stream",
          "text": [
            "Requirement already satisfied: torchtext==0.5.0 in /usr/local/lib/python3.6/dist-packages (0.5.0)\n",
            "Requirement already satisfied: torch in /usr/local/lib/python3.6/dist-packages (from torchtext==0.5.0) (1.7.0+cu101)\n",
            "Requirement already satisfied: numpy in /usr/local/lib/python3.6/dist-packages (from torchtext==0.5.0) (1.19.4)\n",
            "Requirement already satisfied: six in /usr/local/lib/python3.6/dist-packages (from torchtext==0.5.0) (1.15.0)\n",
            "Requirement already satisfied: tqdm in /usr/local/lib/python3.6/dist-packages (from torchtext==0.5.0) (4.41.1)\n",
            "Requirement already satisfied: requests in /usr/local/lib/python3.6/dist-packages (from torchtext==0.5.0) (2.23.0)\n",
            "Requirement already satisfied: sentencepiece in /usr/local/lib/python3.6/dist-packages (from torchtext==0.5.0) (0.1.94)\n",
            "Requirement already satisfied: dataclasses in /usr/local/lib/python3.6/dist-packages (from torch->torchtext==0.5.0) (0.8)\n",
            "Requirement already satisfied: future in /usr/local/lib/python3.6/dist-packages (from torch->torchtext==0.5.0) (0.16.0)\n",
            "Requirement already satisfied: typing-extensions in /usr/local/lib/python3.6/dist-packages (from torch->torchtext==0.5.0) (3.7.4.3)\n",
            "Requirement already satisfied: idna<3,>=2.5 in /usr/local/lib/python3.6/dist-packages (from requests->torchtext==0.5.0) (2.10)\n",
            "Requirement already satisfied: chardet<4,>=3.0.2 in /usr/local/lib/python3.6/dist-packages (from requests->torchtext==0.5.0) (3.0.4)\n",
            "Requirement already satisfied: urllib3!=1.25.0,!=1.25.1,<1.26,>=1.21.1 in /usr/local/lib/python3.6/dist-packages (from requests->torchtext==0.5.0) (1.24.3)\n",
            "Requirement already satisfied: certifi>=2017.4.17 in /usr/local/lib/python3.6/dist-packages (from requests->torchtext==0.5.0) (2020.12.5)\n"
          ],
          "name": "stdout"
        }
      ]
    },
    {
      "cell_type": "code",
      "metadata": {
        "id": "LM16vdVMgYSt"
      },
      "source": [
        "import torch\n",
        "import torch.nn as nn\n",
        "import torch.optim as optim\n",
        "\n",
        "from torchtext.datasets import Multi30k\n",
        "from torchtext.data import Field, BucketIterator\n",
        "\n",
        "import spacy\n",
        "import numpy as np\n",
        "\n",
        "import random\n",
        "import math\n",
        "import time\n",
        "\n",
        "import os, pickle"
      ],
      "execution_count": 2,
      "outputs": []
    },
    {
      "cell_type": "code",
      "metadata": {
        "colab": {
          "base_uri": "https://localhost:8080/"
        },
        "id": "_mCy1ejhgaB6",
        "outputId": "d6b07f40-7f3b-45d4-e0b2-fa10569c58d5"
      },
      "source": [
        "%%bash\n",
        "python -m spacy download en\n",
        "python -m spacy download de"
      ],
      "execution_count": 3,
      "outputs": [
        {
          "output_type": "stream",
          "text": [
            "Requirement already satisfied: en_core_web_sm==2.2.5 from https://github.com/explosion/spacy-models/releases/download/en_core_web_sm-2.2.5/en_core_web_sm-2.2.5.tar.gz#egg=en_core_web_sm==2.2.5 in /usr/local/lib/python3.6/dist-packages (2.2.5)\n",
            "Requirement already satisfied: spacy>=2.2.2 in /usr/local/lib/python3.6/dist-packages (from en_core_web_sm==2.2.5) (2.2.4)\n",
            "Requirement already satisfied: preshed<3.1.0,>=3.0.2 in /usr/local/lib/python3.6/dist-packages (from spacy>=2.2.2->en_core_web_sm==2.2.5) (3.0.5)\n",
            "Requirement already satisfied: murmurhash<1.1.0,>=0.28.0 in /usr/local/lib/python3.6/dist-packages (from spacy>=2.2.2->en_core_web_sm==2.2.5) (1.0.5)\n",
            "Requirement already satisfied: catalogue<1.1.0,>=0.0.7 in /usr/local/lib/python3.6/dist-packages (from spacy>=2.2.2->en_core_web_sm==2.2.5) (1.0.0)\n",
            "Requirement already satisfied: srsly<1.1.0,>=1.0.2 in /usr/local/lib/python3.6/dist-packages (from spacy>=2.2.2->en_core_web_sm==2.2.5) (1.0.5)\n",
            "Requirement already satisfied: requests<3.0.0,>=2.13.0 in /usr/local/lib/python3.6/dist-packages (from spacy>=2.2.2->en_core_web_sm==2.2.5) (2.23.0)\n",
            "Requirement already satisfied: cymem<2.1.0,>=2.0.2 in /usr/local/lib/python3.6/dist-packages (from spacy>=2.2.2->en_core_web_sm==2.2.5) (2.0.5)\n",
            "Requirement already satisfied: setuptools in /usr/local/lib/python3.6/dist-packages (from spacy>=2.2.2->en_core_web_sm==2.2.5) (51.1.1)\n",
            "Requirement already satisfied: tqdm<5.0.0,>=4.38.0 in /usr/local/lib/python3.6/dist-packages (from spacy>=2.2.2->en_core_web_sm==2.2.5) (4.41.1)\n",
            "Requirement already satisfied: numpy>=1.15.0 in /usr/local/lib/python3.6/dist-packages (from spacy>=2.2.2->en_core_web_sm==2.2.5) (1.19.4)\n",
            "Requirement already satisfied: plac<1.2.0,>=0.9.6 in /usr/local/lib/python3.6/dist-packages (from spacy>=2.2.2->en_core_web_sm==2.2.5) (1.1.3)\n",
            "Requirement already satisfied: thinc==7.4.0 in /usr/local/lib/python3.6/dist-packages (from spacy>=2.2.2->en_core_web_sm==2.2.5) (7.4.0)\n",
            "Requirement already satisfied: wasabi<1.1.0,>=0.4.0 in /usr/local/lib/python3.6/dist-packages (from spacy>=2.2.2->en_core_web_sm==2.2.5) (0.8.0)\n",
            "Requirement already satisfied: blis<0.5.0,>=0.4.0 in /usr/local/lib/python3.6/dist-packages (from spacy>=2.2.2->en_core_web_sm==2.2.5) (0.4.1)\n",
            "Requirement already satisfied: importlib-metadata>=0.20; python_version < \"3.8\" in /usr/local/lib/python3.6/dist-packages (from catalogue<1.1.0,>=0.0.7->spacy>=2.2.2->en_core_web_sm==2.2.5) (3.3.0)\n",
            "Requirement already satisfied: idna<3,>=2.5 in /usr/local/lib/python3.6/dist-packages (from requests<3.0.0,>=2.13.0->spacy>=2.2.2->en_core_web_sm==2.2.5) (2.10)\n",
            "Requirement already satisfied: urllib3!=1.25.0,!=1.25.1,<1.26,>=1.21.1 in /usr/local/lib/python3.6/dist-packages (from requests<3.0.0,>=2.13.0->spacy>=2.2.2->en_core_web_sm==2.2.5) (1.24.3)\n",
            "Requirement already satisfied: certifi>=2017.4.17 in /usr/local/lib/python3.6/dist-packages (from requests<3.0.0,>=2.13.0->spacy>=2.2.2->en_core_web_sm==2.2.5) (2020.12.5)\n",
            "Requirement already satisfied: chardet<4,>=3.0.2 in /usr/local/lib/python3.6/dist-packages (from requests<3.0.0,>=2.13.0->spacy>=2.2.2->en_core_web_sm==2.2.5) (3.0.4)\n",
            "Requirement already satisfied: typing-extensions>=3.6.4; python_version < \"3.8\" in /usr/local/lib/python3.6/dist-packages (from importlib-metadata>=0.20; python_version < \"3.8\"->catalogue<1.1.0,>=0.0.7->spacy>=2.2.2->en_core_web_sm==2.2.5) (3.7.4.3)\n",
            "Requirement already satisfied: zipp>=0.5 in /usr/local/lib/python3.6/dist-packages (from importlib-metadata>=0.20; python_version < \"3.8\"->catalogue<1.1.0,>=0.0.7->spacy>=2.2.2->en_core_web_sm==2.2.5) (3.4.0)\n",
            "\u001b[38;5;2m✔ Download and installation successful\u001b[0m\n",
            "You can now load the model via spacy.load('en_core_web_sm')\n",
            "\u001b[38;5;2m✔ Linking successful\u001b[0m\n",
            "/usr/local/lib/python3.6/dist-packages/en_core_web_sm -->\n",
            "/usr/local/lib/python3.6/dist-packages/spacy/data/en\n",
            "You can now load the model via spacy.load('en')\n",
            "Requirement already satisfied: de_core_news_sm==2.2.5 from https://github.com/explosion/spacy-models/releases/download/de_core_news_sm-2.2.5/de_core_news_sm-2.2.5.tar.gz#egg=de_core_news_sm==2.2.5 in /usr/local/lib/python3.6/dist-packages (2.2.5)\n",
            "Requirement already satisfied: spacy>=2.2.2 in /usr/local/lib/python3.6/dist-packages (from de_core_news_sm==2.2.5) (2.2.4)\n",
            "Requirement already satisfied: blis<0.5.0,>=0.4.0 in /usr/local/lib/python3.6/dist-packages (from spacy>=2.2.2->de_core_news_sm==2.2.5) (0.4.1)\n",
            "Requirement already satisfied: murmurhash<1.1.0,>=0.28.0 in /usr/local/lib/python3.6/dist-packages (from spacy>=2.2.2->de_core_news_sm==2.2.5) (1.0.5)\n",
            "Requirement already satisfied: thinc==7.4.0 in /usr/local/lib/python3.6/dist-packages (from spacy>=2.2.2->de_core_news_sm==2.2.5) (7.4.0)\n",
            "Requirement already satisfied: preshed<3.1.0,>=3.0.2 in /usr/local/lib/python3.6/dist-packages (from spacy>=2.2.2->de_core_news_sm==2.2.5) (3.0.5)\n",
            "Requirement already satisfied: wasabi<1.1.0,>=0.4.0 in /usr/local/lib/python3.6/dist-packages (from spacy>=2.2.2->de_core_news_sm==2.2.5) (0.8.0)\n",
            "Requirement already satisfied: catalogue<1.1.0,>=0.0.7 in /usr/local/lib/python3.6/dist-packages (from spacy>=2.2.2->de_core_news_sm==2.2.5) (1.0.0)\n",
            "Requirement already satisfied: numpy>=1.15.0 in /usr/local/lib/python3.6/dist-packages (from spacy>=2.2.2->de_core_news_sm==2.2.5) (1.19.4)\n",
            "Requirement already satisfied: plac<1.2.0,>=0.9.6 in /usr/local/lib/python3.6/dist-packages (from spacy>=2.2.2->de_core_news_sm==2.2.5) (1.1.3)\n",
            "Requirement already satisfied: cymem<2.1.0,>=2.0.2 in /usr/local/lib/python3.6/dist-packages (from spacy>=2.2.2->de_core_news_sm==2.2.5) (2.0.5)\n",
            "Requirement already satisfied: setuptools in /usr/local/lib/python3.6/dist-packages (from spacy>=2.2.2->de_core_news_sm==2.2.5) (51.1.1)\n",
            "Requirement already satisfied: srsly<1.1.0,>=1.0.2 in /usr/local/lib/python3.6/dist-packages (from spacy>=2.2.2->de_core_news_sm==2.2.5) (1.0.5)\n",
            "Requirement already satisfied: requests<3.0.0,>=2.13.0 in /usr/local/lib/python3.6/dist-packages (from spacy>=2.2.2->de_core_news_sm==2.2.5) (2.23.0)\n",
            "Requirement already satisfied: tqdm<5.0.0,>=4.38.0 in /usr/local/lib/python3.6/dist-packages (from spacy>=2.2.2->de_core_news_sm==2.2.5) (4.41.1)\n",
            "Requirement already satisfied: importlib-metadata>=0.20; python_version < \"3.8\" in /usr/local/lib/python3.6/dist-packages (from catalogue<1.1.0,>=0.0.7->spacy>=2.2.2->de_core_news_sm==2.2.5) (3.3.0)\n",
            "Requirement already satisfied: chardet<4,>=3.0.2 in /usr/local/lib/python3.6/dist-packages (from requests<3.0.0,>=2.13.0->spacy>=2.2.2->de_core_news_sm==2.2.5) (3.0.4)\n",
            "Requirement already satisfied: certifi>=2017.4.17 in /usr/local/lib/python3.6/dist-packages (from requests<3.0.0,>=2.13.0->spacy>=2.2.2->de_core_news_sm==2.2.5) (2020.12.5)\n",
            "Requirement already satisfied: urllib3!=1.25.0,!=1.25.1,<1.26,>=1.21.1 in /usr/local/lib/python3.6/dist-packages (from requests<3.0.0,>=2.13.0->spacy>=2.2.2->de_core_news_sm==2.2.5) (1.24.3)\n",
            "Requirement already satisfied: idna<3,>=2.5 in /usr/local/lib/python3.6/dist-packages (from requests<3.0.0,>=2.13.0->spacy>=2.2.2->de_core_news_sm==2.2.5) (2.10)\n",
            "Requirement already satisfied: typing-extensions>=3.6.4; python_version < \"3.8\" in /usr/local/lib/python3.6/dist-packages (from importlib-metadata>=0.20; python_version < \"3.8\"->catalogue<1.1.0,>=0.0.7->spacy>=2.2.2->de_core_news_sm==2.2.5) (3.7.4.3)\n",
            "Requirement already satisfied: zipp>=0.5 in /usr/local/lib/python3.6/dist-packages (from importlib-metadata>=0.20; python_version < \"3.8\"->catalogue<1.1.0,>=0.0.7->spacy>=2.2.2->de_core_news_sm==2.2.5) (3.4.0)\n",
            "\u001b[38;5;2m✔ Download and installation successful\u001b[0m\n",
            "You can now load the model via spacy.load('de_core_news_sm')\n",
            "\u001b[38;5;2m✔ Linking successful\u001b[0m\n",
            "/usr/local/lib/python3.6/dist-packages/de_core_news_sm -->\n",
            "/usr/local/lib/python3.6/dist-packages/spacy/data/de\n",
            "You can now load the model via spacy.load('de')\n"
          ],
          "name": "stdout"
        }
      ]
    },
    {
      "cell_type": "code",
      "metadata": {
        "id": "fHVxY3t6gcEc"
      },
      "source": [
        "SEED = 1234\n",
        "\n",
        "random.seed(SEED)\n",
        "np.random.seed(SEED)\n",
        "torch.manual_seed(SEED)\n",
        "torch.cuda.manual_seed(SEED)\n",
        "torch.backends.cudnn.deterministic = True"
      ],
      "execution_count": 4,
      "outputs": []
    },
    {
      "cell_type": "code",
      "metadata": {
        "id": "29N0rMfqgcoR"
      },
      "source": [
        "spacy_de = spacy.load('de')\n",
        "spacy_en = spacy.load('en')"
      ],
      "execution_count": 5,
      "outputs": []
    },
    {
      "cell_type": "code",
      "metadata": {
        "id": "8aYm5LQsgfz8"
      },
      "source": [
        "def tokenize_de(text):\n",
        "    \"\"\"\n",
        "    Tokenizes German text from a string into a list of strings (tokens) and reverses it\n",
        "    \"\"\"\n",
        "    return [tok.text for tok in spacy_de.tokenizer(text)][::-1]\n",
        "\n",
        "def tokenize_en(text):\n",
        "    \"\"\"\n",
        "    Tokenizes English text from a string into a list of strings (tokens)\n",
        "    \"\"\"\n",
        "    return [tok.text for tok in spacy_en.tokenizer(text)]"
      ],
      "execution_count": 6,
      "outputs": []
    },
    {
      "cell_type": "code",
      "metadata": {
        "id": "LGfjLGx9glEt"
      },
      "source": [
        "SRC = Field(tokenize = tokenize_en, \n",
        "            init_token = '<sos>', \n",
        "            eos_token = '<eos>', \n",
        "            lower = True,\n",
        "            include_lengths = True)\n",
        "\n",
        "TRG = Field(tokenize = tokenize_de, \n",
        "            init_token = '<sos>', \n",
        "            eos_token = '<eos>', \n",
        "            lower = True)"
      ],
      "execution_count": 7,
      "outputs": []
    },
    {
      "cell_type": "code",
      "metadata": {
        "id": "eZ7IUn8-grFW"
      },
      "source": [
        "train_data, valid_data, test_data = Multi30k.splits(exts = ('.en', '.de'), \n",
        "                                                    fields = (SRC, TRG))"
      ],
      "execution_count": 8,
      "outputs": []
    },
    {
      "cell_type": "code",
      "metadata": {
        "colab": {
          "base_uri": "https://localhost:8080/"
        },
        "id": "8QucZ1Mngs8C",
        "outputId": "8a9cc0cc-07fb-4237-d663-1c46db41e166"
      },
      "source": [
        "print(f\"Number of training examples: {len(train_data.examples)}\")\n",
        "print(f\"Number of validation examples: {len(valid_data.examples)}\")\n",
        "print(f\"Number of testing examples: {len(test_data.examples)}\")"
      ],
      "execution_count": 9,
      "outputs": [
        {
          "output_type": "stream",
          "text": [
            "Number of training examples: 29000\n",
            "Number of validation examples: 1014\n",
            "Number of testing examples: 1000\n"
          ],
          "name": "stdout"
        }
      ]
    },
    {
      "cell_type": "code",
      "metadata": {
        "id": "Ds25uRe6gtqG"
      },
      "source": [
        "SRC.build_vocab(train_data, min_freq = 2)\n",
        "TRG.build_vocab(train_data, min_freq = 2)"
      ],
      "execution_count": 10,
      "outputs": []
    },
    {
      "cell_type": "code",
      "metadata": {
        "id": "wZNmYd_2gvFD"
      },
      "source": [
        "device = torch.device('cuda' if torch.cuda.is_available() else 'cpu')"
      ],
      "execution_count": 11,
      "outputs": []
    },
    {
      "cell_type": "code",
      "metadata": {
        "id": "Kf8SD4nygw00"
      },
      "source": [
        "BATCH_SIZE = 128\n",
        "\n",
        "train_iterator, valid_iterator, test_iterator = BucketIterator.splits(\n",
        "    (train_data, valid_data, test_data), \n",
        "    batch_size = BATCH_SIZE, sort_key=lambda x: len(x.src),sort_within_batch=True,\n",
        "    device = device)"
      ],
      "execution_count": 12,
      "outputs": []
    },
    {
      "cell_type": "code",
      "metadata": {
        "id": "EL1zG0ghgzAo"
      },
      "source": [
        "with open('source.pkl', 'wb') as src_tokens: \n",
        "  pickle.dump(SRC.vocab.stoi, src_tokens)\n",
        "with open('target_stoi.pkl','wb') as trg_tokens:\n",
        "  pickle.dump(TRG.vocab.stoi,trg_tokens)\n",
        "\n",
        "with open('target_itos.pkl','wb') as trg_tokens:\n",
        "  pickle.dump(TRG.vocab.itos,trg_tokens)"
      ],
      "execution_count": 13,
      "outputs": []
    },
    {
      "cell_type": "code",
      "metadata": {
        "id": "sje8iM0fg78h"
      },
      "source": [
        "class Encoder(nn.Module):\n",
        "    def __init__(self, input_dim, emb_dim, enc_hid_dim, dec_hid_dim, dropout):\n",
        "        super().__init__()\n",
        "        \n",
        "        self.embedding = nn.Embedding(input_dim, emb_dim)\n",
        "        \n",
        "        self.rnn = nn.GRU(emb_dim, enc_hid_dim, bidirectional = True)\n",
        "        \n",
        "        self.fc = nn.Linear(enc_hid_dim * 2, dec_hid_dim)\n",
        "        \n",
        "        self.dropout = nn.Dropout(dropout)\n",
        "        \n",
        "    def forward(self, src,src_len):\n",
        "        \n",
        "        #src = [src len, batch size]\n",
        "        \n",
        "        embedded = self.dropout(self.embedding(src))        \n",
        "        #embedded = [src len, batch size, emb dim]\n",
        "\n",
        "        packed_embedded = nn.utils.rnn.pack_padded_sequence(embedded,src_len.cpu())\n",
        "        # packed_embedded: data_sequence[], batch_sequence[]\n",
        "\n",
        "        packed_outputs, hidden = self.rnn(packed_embedded)\n",
        "\n",
        "        outputs,_ = nn.utils.rnn.pad_packed_sequence(packed_outputs)\n",
        "                \n",
        "        #outputs = [src len, batch size, hid dim * num directions]\n",
        "        #hidden = [n layers * num directions, batch size, hid dim]\n",
        "        \n",
        "        hidden = torch.tanh(self.fc(torch.cat((hidden[-2,:,:], hidden[-1,:,:]), dim = 1)))\n",
        "        \n",
        "        #outputs = [src len, batch size, enc hid dim * 2]\n",
        "        #hidden = [batch size, dec hid dim]\n",
        "        \n",
        "        return outputs, hidden"
      ],
      "execution_count": 14,
      "outputs": []
    },
    {
      "cell_type": "code",
      "metadata": {
        "id": "WEfVmaFyLOEc"
      },
      "source": [
        "class Attention(nn.Module):\n",
        "    def __init__(self, enc_hid_dim, dec_hid_dim):\n",
        "        super().__init__()\n",
        "        \n",
        "        self.attn = nn.Linear((enc_hid_dim * 2) + dec_hid_dim, dec_hid_dim)\n",
        "        self.v = nn.Linear(dec_hid_dim, 1, bias = False)\n",
        "        \n",
        "    def forward(self, hidden, encoder_outputs,mask):\n",
        "        \n",
        "        #hidden = [batch size, dec hid dim]\n",
        "        #encoder_outputs = [src len, batch size, enc hid dim * 2]\n",
        "        \n",
        "        batch_size = encoder_outputs.shape[1]\n",
        "        src_len = encoder_outputs.shape[0]\n",
        "        \n",
        "        #repeat decoder hidden state src_len times\n",
        "        hidden = hidden.unsqueeze(1).repeat(1, src_len, 1)\n",
        "        \n",
        "        encoder_outputs = encoder_outputs.permute(1, 0, 2)\n",
        "        \n",
        "        #hidden = [batch size, src len, dec hid dim]\n",
        "        #encoder_outputs = [batch size, src len, enc hid dim * 2]\n",
        "        \n",
        "        energy = torch.tanh(self.attn(torch.cat((hidden, encoder_outputs), dim = 2))) \n",
        "        \n",
        "        #energy = [batch size, src len, dec hid dim]\n",
        "\n",
        "        attention = self.v(energy).squeeze(2)\n",
        "\n",
        "        #attention= [batch size, src len]\n",
        "\n",
        "        attention = attention.masked_fill(mask==0,-1e10)\n",
        "        \n",
        "        #attention= [batch size, src len]\n",
        "        \n",
        "        return F.softmax(attention, dim=1)"
      ],
      "execution_count": 39,
      "outputs": []
    },
    {
      "cell_type": "code",
      "metadata": {
        "id": "pgmJeWwnMA_H"
      },
      "source": [
        "class Decoder(nn.Module):\n",
        "    def __init__(self, output_dim, emb_dim, enc_hid_dim, dec_hid_dim, dropout, attention):\n",
        "        super().__init__()\n",
        "\n",
        "        self.output_dim = output_dim\n",
        "        self.attention = attention\n",
        "        \n",
        "        self.embedding = nn.Embedding(output_dim, emb_dim)\n",
        "        \n",
        "        self.rnn = nn.GRU((enc_hid_dim * 2) + emb_dim, dec_hid_dim)\n",
        "        \n",
        "        self.fc_out = nn.Linear((enc_hid_dim * 2) + dec_hid_dim + emb_dim, output_dim)\n",
        "        \n",
        "        self.dropout = nn.Dropout(dropout)\n",
        "        \n",
        "    def forward(self, input, hidden, encoder_outputs,mask):\n",
        "             \n",
        "        #input = [batch size]\n",
        "        #hidden = [batch size, dec hid dim]\n",
        "        #encoder_outputs = [src len, batch size, enc hid dim * 2]\n",
        "        \n",
        "        input = input.unsqueeze(0)\n",
        "        \n",
        "        #input = [1, batch size]\n",
        "        \n",
        "        embedded = self.dropout(self.embedding(input))\n",
        "        \n",
        "        #embedded = [1, batch size, emb dim]\n",
        "        \n",
        "        a = self.attention(hidden, encoder_outputs,mask)\n",
        "                \n",
        "        #a = [batch size, src len]\n",
        "        \n",
        "        a = a.unsqueeze(1)\n",
        "        \n",
        "        #a = [batch size, 1, src len]\n",
        "        \n",
        "        encoder_outputs = encoder_outputs.permute(1, 0, 2)\n",
        "        \n",
        "        #encoder_outputs = [batch size, src len, enc hid dim * 2]\n",
        "        \n",
        "        weighted = torch.bmm(a, encoder_outputs)\n",
        "        \n",
        "        #weighted = [batch size, 1, enc hid dim * 2]\n",
        "        \n",
        "        weighted = weighted.permute(1, 0, 2)\n",
        "        \n",
        "        #weighted = [1, batch size, enc hid dim * 2]\n",
        "        \n",
        "        rnn_input = torch.cat((embedded, weighted), dim = 2)\n",
        "        \n",
        "        #rnn_input = [1, batch size, (enc hid dim * 2) + emb dim]\n",
        "            \n",
        "        output, hidden = self.rnn(rnn_input, hidden.unsqueeze(0))\n",
        "        \n",
        "        #output = [seq len, batch size, dec hid dim * n directions]\n",
        "        #hidden = [n layers * n directions, batch size, dec hid dim]\n",
        "        \n",
        "        #seq len, n layers and n directions will always be 1 in this decoder, therefore:\n",
        "        #output = [1, batch size, dec hid dim]\n",
        "        #hidden = [1, batch size, dec hid dim]\n",
        "        #this also means that output == hidden\n",
        "        assert (output == hidden).all()\n",
        "        \n",
        "        embedded = embedded.squeeze(0)\n",
        "        output = output.squeeze(0)\n",
        "        weighted = weighted.squeeze(0)\n",
        "        \n",
        "        prediction = self.fc_out(torch.cat((output, weighted, embedded), dim = 1))\n",
        "        \n",
        "        #prediction = [batch size, output dim]\n",
        "        \n",
        "        return prediction, hidden.squeeze(0), a.squeeze(1)"
      ],
      "execution_count": 40,
      "outputs": []
    },
    {
      "cell_type": "code",
      "metadata": {
        "id": "DgoGg0nDMQis"
      },
      "source": [
        "class Seq2Seq(nn.Module):\n",
        "    def __init__(self, encoder, decoder, device,src_pad_idx):\n",
        "        super().__init__()\n",
        "        \n",
        "        self.encoder = encoder\n",
        "        self.decoder = decoder\n",
        "        self.device = device\n",
        "        self.src_pad_idx = src_pad_idx\n",
        "\n",
        "    def create_mask(self,src):\n",
        "        mask = (src != self.src_pad_idx).permute(1,0)\n",
        "        return mask\n",
        "\n",
        "    def forward(self, src, src_len, trg, teacher_forcing_ratio = 0.5):\n",
        "        \n",
        "        #src = [src len, batch size]\n",
        "        #trg = [trg len, batch size]\n",
        "        #teacher_forcing_ratio is probability to use teacher forcing\n",
        "        #e.g. if teacher_forcing_ratio is 0.75 we use teacher forcing 75% of the time\n",
        "        \n",
        "        batch_size = src.shape[1]\n",
        "        trg_len = trg.shape[0]\n",
        "        trg_vocab_size = self.decoder.output_dim\n",
        "        \n",
        "        #tensor to store decoder outputs\n",
        "        outputs = torch.zeros(trg_len, batch_size, trg_vocab_size).to(self.device)\n",
        "        \n",
        "        #encoder_outputs is all hidden states of the input sequence, back and forwards\n",
        "        #hidden is the final forward and backward hidden states, passed through a linear layer\n",
        "        encoder_outputs, hidden = self.encoder(src,src_len)\n",
        "                \n",
        "        #first input to the decoder is the <sos> tokens\n",
        "        input = trg[0,:]\n",
        "        \n",
        "        mask = self.create_mask(src)\n",
        "        # mask: [batch_size,src_len]\n",
        "        for t in range(1, trg_len):\n",
        "            \n",
        "            #insert input token embedding, previous hidden state and all encoder hidden states\n",
        "            #receive output tensor (predictions) and new hidden state\n",
        "            output, hidden, _ = self.decoder(input, hidden, encoder_outputs,mask)\n",
        "            \n",
        "            #place predictions in a tensor holding predictions for each token\n",
        "            outputs[t] = output\n",
        "            \n",
        "            #decide if we are going to use teacher forcing or not\n",
        "            teacher_force = random.random() < teacher_forcing_ratio\n",
        "            \n",
        "            #get the highest predicted token from our predictions\n",
        "            top1 = output.argmax(1) \n",
        "            \n",
        "            #if teacher forcing, use actual next token as next input\n",
        "            #if not, use predicted token\n",
        "            input = trg[t] if teacher_force else top1\n",
        "\n",
        "        return outputs"
      ],
      "execution_count": 41,
      "outputs": []
    },
    {
      "cell_type": "code",
      "metadata": {
        "id": "-vc3fqU3M59t"
      },
      "source": [
        "INPUT_DIM = len(SRC.vocab)\n",
        "OUTPUT_DIM = len(TRG.vocab)\n",
        "ENC_EMB_DIM = 256\n",
        "DEC_EMB_DIM = 256\n",
        "ENC_HID_DIM = 512\n",
        "DEC_HID_DIM = 512\n",
        "ENC_DROPOUT = 0.5\n",
        "DEC_DROPOUT = 0.5\n",
        "src_pad_idx = SRC.vocab.stoi[SRC.pad_token]\n",
        "\n",
        "attn = Attention(ENC_HID_DIM, DEC_HID_DIM)\n",
        "enc = Encoder(INPUT_DIM, ENC_EMB_DIM, ENC_HID_DIM, DEC_HID_DIM, ENC_DROPOUT)\n",
        "dec = Decoder(OUTPUT_DIM, DEC_EMB_DIM, ENC_HID_DIM, DEC_HID_DIM, DEC_DROPOUT, attn)\n",
        "\n",
        "model = Seq2Seq(enc, dec, device,src_pad_idx).to(device)"
      ],
      "execution_count": 42,
      "outputs": []
    },
    {
      "cell_type": "code",
      "metadata": {
        "colab": {
          "base_uri": "https://localhost:8080/"
        },
        "id": "C3KZ3v46OuHM",
        "outputId": "dbd73e5b-0122-4b75-cfb2-edac382c3825"
      },
      "source": [
        "def init_weights(m):\n",
        "  for name,param in m.named_parameters():\n",
        "    if 'weight' in name:\n",
        "      nn.init.normal_(param.data,mean=0,std=0.01)\n",
        "    else:\n",
        "      nn.init.constant_(param.data,0)\n",
        "\n",
        "model.apply(init_weights)"
      ],
      "execution_count": 43,
      "outputs": [
        {
          "output_type": "execute_result",
          "data": {
            "text/plain": [
              "Seq2Seq(\n",
              "  (encoder): Encoder(\n",
              "    (embedding): Embedding(5893, 256)\n",
              "    (rnn): GRU(256, 512, bidirectional=True)\n",
              "    (fc): Linear(in_features=1024, out_features=512, bias=True)\n",
              "    (dropout): Dropout(p=0.5, inplace=False)\n",
              "  )\n",
              "  (decoder): Decoder(\n",
              "    (attention): Attention(\n",
              "      (attn): Linear(in_features=1536, out_features=512, bias=True)\n",
              "      (v): Linear(in_features=512, out_features=1, bias=False)\n",
              "    )\n",
              "    (embedding): Embedding(7855, 256)\n",
              "    (rnn): GRU(1280, 512)\n",
              "    (fc_out): Linear(in_features=1792, out_features=7855, bias=True)\n",
              "    (dropout): Dropout(p=0.5, inplace=False)\n",
              "  )\n",
              ")"
            ]
          },
          "metadata": {
            "tags": []
          },
          "execution_count": 43
        }
      ]
    },
    {
      "cell_type": "code",
      "metadata": {
        "id": "hd5_8hzGOvqo"
      },
      "source": [
        "pad_idx = TRG.vocab.stoi[TRG.pad_token]\n",
        "\n",
        "criterion = nn.CrossEntropyLoss(ignore_index=pad_idx)"
      ],
      "execution_count": 44,
      "outputs": []
    },
    {
      "cell_type": "code",
      "metadata": {
        "id": "1OElJ-vNOyL_"
      },
      "source": [
        "optimizer = optim.Adam(model.parameters())"
      ],
      "execution_count": 45,
      "outputs": []
    },
    {
      "cell_type": "code",
      "metadata": {
        "colab": {
          "base_uri": "https://localhost:8080/"
        },
        "id": "r_xd54QHO0CY",
        "outputId": "8e4062e4-8b3e-4d6c-9c56-0019c5a493d7"
      },
      "source": [
        "def count_parameters(model):\n",
        "  return sum(p.numel() for p in model.parameters() if p.requires_grad)\n",
        "\n",
        "print('Total number of trainable params in the model = {}'.format(count_parameters(model)))"
      ],
      "execution_count": 46,
      "outputs": [
        {
          "output_type": "stream",
          "text": [
            "Total number of trainable params in the model = 24036783\n"
          ],
          "name": "stdout"
        }
      ]
    },
    {
      "cell_type": "code",
      "metadata": {
        "id": "BSr9tBVjO2Qh"
      },
      "source": [
        "from torchtext.data.metrics import bleu_score\n",
        "\n",
        "def get_blue_score(translated,translation,itos_location=\"target_itos.pkl\"):\n",
        "  # translated : [trg_len,batch_size,output_dim]\n",
        "  # translation : [trg_len,batch_size]\n",
        "\n",
        "  # Load trg.itos\n",
        "  trg_token_file = open(itos_location,'rb')\n",
        "  trg_itos = pickle.load(trg_token_file)\n",
        "\n",
        "  translated = torch.argmax(translated[1:],-1).T # translated : [batch_size,trg_len-1]\n",
        "  translation = translation[1:].T # translation : [batch_size,trg_len-1]\n",
        "\n",
        "  pred_ = []\n",
        "  trg_ = []\n",
        "  for i,j in zip(translated,translation):\n",
        "    pred_.append([trg_itos[k.item()] for k in i if trg_itos[k.item()] not in ('<eos>','<pad>')]) # trim pad and eos tokens\n",
        "    trg_.append([[trg_itos[k.item()] for k in j if trg_itos[k.item()] not in ('<eos>','<pad>')]])\n",
        "\n",
        "  try:\n",
        "    score = bleu_score(pred_,trg_)\n",
        "    return score\n",
        "  except IndexError:\n",
        "    # My guess is that while doing split with split(\" \"), we are getting ngram len greater than 4\n",
        "    # Find blue_score for each translated and translation sepearately\n",
        "    \n",
        "    # for i,j in zip(translated,translation):\n",
        "    #   try:\n",
        "    #     bleu_score([[trg_itos[k.item()] for k in i]],[[[trg_itos[k.item()] for k in j]]])\n",
        "    #   except IndexError:\n",
        "    #     print(f' Translated result {[trg_itos[k.item()] for k in i]}')\n",
        "    #     print(f' Target Result {[trg_itos[k.item()] for k in j]}')\n",
        "\n",
        "    '''\n",
        "    The speculation was right. When the translated sentence has a ' ' in it. Then the length of ngram increases to 5 after splitting it string.split(\" \")\n",
        "    For now simply passing 0 score if this error is encountered.\n",
        "    '''\n",
        "    return 0"
      ],
      "execution_count": 47,
      "outputs": []
    },
    {
      "cell_type": "code",
      "metadata": {
        "id": "8BwZm6c8QMQz"
      },
      "source": [
        "def train(model,iterator,optimizer,criterion,clip):\n",
        "  model.train()\n",
        "\n",
        "  epoch_loss = 0\n",
        "  bleu_score = 0\n",
        "  for i,batch in enumerate(iterator):\n",
        "\n",
        "    src,src_len = batch.src\n",
        "    trg = batch.trg\n",
        "\n",
        "    optimizer.zero_grad()\n",
        "\n",
        "    outputs = model(src,src_len,trg)\n",
        "\n",
        "    #outputs : [trg_len,batch,output_dim]\n",
        "    # trg :[trg_len,batch]\n",
        "\n",
        "    output_dim = outputs.shape[-1]\n",
        "\n",
        "    batch_bleu_score = get_blue_score(outputs,trg)\n",
        "    bleu_score += batch_bleu_score\n",
        "\n",
        "    outputs = outputs[1:].view(-1,output_dim)\n",
        "    trg = trg[1:].view(-1)\n",
        "\n",
        "    loss = criterion(outputs,trg)\n",
        "\n",
        "    loss.backward()\n",
        "\n",
        "    torch.nn.utils.clip_grad_norm(model.parameters(),clip)\n",
        "\n",
        "    optimizer.step()\n",
        "\n",
        "    epoch_loss += loss.item()\n",
        "  \n",
        "  return epoch_loss/len(iterator) , bleu_score/len(iterator)"
      ],
      "execution_count": 48,
      "outputs": []
    },
    {
      "cell_type": "code",
      "metadata": {
        "id": "lp7i1rycQZqi"
      },
      "source": [
        "def evaluate(model,criterion,iterator):\n",
        "  model.eval()\n",
        "\n",
        "  epoch_loss = 0\n",
        "  bleu_score = 0\n",
        "  for i,batch in enumerate(iterator):\n",
        "\n",
        "    src,src_len = batch.src\n",
        "    trg = batch.trg\n",
        "\n",
        "    outputs = model(src,src_len,trg)\n",
        "\n",
        "    output_dim = outputs.shape[-1]\n",
        "\n",
        "    batch_bleu_score = get_blue_score(outputs,trg)\n",
        "    bleu_score += batch_bleu_score\n",
        "\n",
        "    outputs = outputs[1:].view(-1,output_dim)\n",
        "    trg = trg[1:].view(-1)\n",
        "\n",
        "    loss = criterion(outputs,trg)\n",
        "\n",
        "    epoch_loss += loss.item()\n",
        "\n",
        "  return epoch_loss/len(iterator) ,bleu_score/len(iterator)"
      ],
      "execution_count": 52,
      "outputs": []
    },
    {
      "cell_type": "code",
      "metadata": {
        "id": "1yeXlfrJQbm_"
      },
      "source": [
        "def epoch_time(start_time,end_time):\n",
        "  elapsed_time = end_time - start_time\n",
        "  elapsed_mins = int(elapsed_time/60)\n",
        "  elapsed_secs = int(elapsed_time - elapsed_mins*60)\n",
        "  return elapsed_mins, elapsed_secs"
      ],
      "execution_count": 53,
      "outputs": []
    },
    {
      "cell_type": "code",
      "metadata": {
        "colab": {
          "base_uri": "https://localhost:8080/"
        },
        "id": "LTCgG3ixQutt",
        "outputId": "cfafdd90-1dde-4b7b-9cc7-89de530f9a22"
      },
      "source": [
        "import torch.nn.functional as F\n",
        "epochs = 20\n",
        "clip = 1.\n",
        "\n",
        "best_valid_loss = float('inf')\n",
        "\n",
        "for epoch in range(epochs):\n",
        "\n",
        "  start_time = time.time()\n",
        "\n",
        "  train_loss,train_bleu = train(model,train_iterator,optimizer,criterion,clip)\n",
        "  val_loss,val_bleu = evaluate(model,criterion,valid_iterator)\n",
        "\n",
        "  end_time = time.time()\n",
        "\n",
        "  if best_valid_loss > val_loss:\n",
        "    best_valid_loss = val_loss\n",
        "    torch.save(model.state_dict(),'english-german-seq2seq.pt')\n",
        "  \n",
        "  epoch_mins,epoch_secs = epoch_time(start_time,end_time)\n",
        "\n",
        "  print(f'Epoch : {epoch+1:02} | Time: {epoch_mins:.3f} minutes ,{epoch_secs} seconds')\n",
        "  print(f'\\t Train Loss : {train_loss:.3f} | Train BLEU : {train_bleu:.4f} | Train PPL: {math.exp(train_loss):7.3f} ')\n",
        "  print(f'\\t Val loss : {val_loss:.3f} | Val BLEU: {val_bleu:.4f} |Val PPL: {math.exp(val_loss):7.3f}')"
      ],
      "execution_count": 54,
      "outputs": [
        {
          "output_type": "stream",
          "text": [
            "/usr/local/lib/python3.6/dist-packages/ipykernel_launcher.py:30: UserWarning: torch.nn.utils.clip_grad_norm is now deprecated in favor of torch.nn.utils.clip_grad_norm_.\n"
          ],
          "name": "stderr"
        },
        {
          "output_type": "stream",
          "text": [
            "Epoch : 01 | Time: 1.000 minutes ,41 seconds\n",
            "\t Train Loss : 4.073 | Train BLEU : 0.0400 | Train PPL:  58.714 \n",
            "\t Val loss : 3.616 | Val BLEU: 0.0830 |Val PPL:  37.176\n",
            "Epoch : 02 | Time: 1.000 minutes ,45 seconds\n",
            "\t Train Loss : 3.401 | Train BLEU : 0.0954 | Train PPL:  29.989 \n",
            "\t Val loss : 3.164 | Val BLEU: 0.1371 |Val PPL:  23.666\n",
            "Epoch : 03 | Time: 1.000 minutes ,48 seconds\n",
            "\t Train Loss : 2.903 | Train BLEU : 0.1394 | Train PPL:  18.234 \n",
            "\t Val loss : 2.868 | Val BLEU: 0.1648 |Val PPL:  17.601\n",
            "Epoch : 04 | Time: 1.000 minutes ,46 seconds\n",
            "\t Train Loss : 2.508 | Train BLEU : 0.1768 | Train PPL:  12.276 \n",
            "\t Val loss : 2.542 | Val BLEU: 0.1729 |Val PPL:  12.703\n",
            "Epoch : 05 | Time: 1.000 minutes ,48 seconds\n",
            "\t Train Loss : 2.189 | Train BLEU : 0.2149 | Train PPL:   8.923 \n",
            "\t Val loss : 2.541 | Val BLEU: 0.2061 |Val PPL:  12.698\n",
            "Epoch : 06 | Time: 1.000 minutes ,49 seconds\n",
            "\t Train Loss : 1.886 | Train BLEU : 0.2636 | Train PPL:   6.590 \n",
            "\t Val loss : 2.565 | Val BLEU: 0.2174 |Val PPL:  12.995\n",
            "Epoch : 07 | Time: 1.000 minutes ,50 seconds\n",
            "\t Train Loss : 1.687 | Train BLEU : 0.3036 | Train PPL:   5.401 \n",
            "\t Val loss : 2.504 | Val BLEU: 0.2076 |Val PPL:  12.232\n",
            "Epoch : 08 | Time: 1.000 minutes ,51 seconds\n",
            "\t Train Loss : 1.533 | Train BLEU : 0.3323 | Train PPL:   4.630 \n",
            "\t Val loss : 2.533 | Val BLEU: 0.1977 |Val PPL:  12.594\n",
            "Epoch : 09 | Time: 1.000 minutes ,51 seconds\n",
            "\t Train Loss : 1.402 | Train BLEU : 0.3633 | Train PPL:   4.064 \n",
            "\t Val loss : 2.493 | Val BLEU: 0.2330 |Val PPL:  12.096\n",
            "Epoch : 10 | Time: 1.000 minutes ,51 seconds\n",
            "\t Train Loss : 1.266 | Train BLEU : 0.3919 | Train PPL:   3.545 \n",
            "\t Val loss : 2.478 | Val BLEU: 0.2275 |Val PPL:  11.912\n",
            "Epoch : 11 | Time: 1.000 minutes ,51 seconds\n",
            "\t Train Loss : 1.177 | Train BLEU : 0.4254 | Train PPL:   3.245 \n",
            "\t Val loss : 2.708 | Val BLEU: 0.1971 |Val PPL:  15.002\n",
            "Epoch : 12 | Time: 1.000 minutes ,49 seconds\n",
            "\t Train Loss : 1.076 | Train BLEU : 0.4464 | Train PPL:   2.934 \n",
            "\t Val loss : 2.764 | Val BLEU: 0.2234 |Val PPL:  15.859\n",
            "Epoch : 13 | Time: 1.000 minutes ,52 seconds\n",
            "\t Train Loss : 0.980 | Train BLEU : 0.4797 | Train PPL:   2.664 \n",
            "\t Val loss : 2.640 | Val BLEU: 0.2365 |Val PPL:  14.014\n",
            "Epoch : 14 | Time: 1.000 minutes ,52 seconds\n",
            "\t Train Loss : 0.913 | Train BLEU : 0.4911 | Train PPL:   2.491 \n",
            "\t Val loss : 2.657 | Val BLEU: 0.2260 |Val PPL:  14.258\n",
            "Epoch : 15 | Time: 1.000 minutes ,52 seconds\n",
            "\t Train Loss : 0.846 | Train BLEU : 0.5186 | Train PPL:   2.330 \n",
            "\t Val loss : 2.826 | Val BLEU: 0.2467 |Val PPL:  16.870\n",
            "Epoch : 16 | Time: 1.000 minutes ,53 seconds\n",
            "\t Train Loss : 0.757 | Train BLEU : 0.5226 | Train PPL:   2.132 \n",
            "\t Val loss : 2.683 | Val BLEU: 0.2452 |Val PPL:  14.636\n",
            "Epoch : 17 | Time: 1.000 minutes ,56 seconds\n",
            "\t Train Loss : 0.699 | Train BLEU : 0.5373 | Train PPL:   2.012 \n",
            "\t Val loss : 2.746 | Val BLEU: 0.2298 |Val PPL:  15.587\n",
            "Epoch : 18 | Time: 1.000 minutes ,55 seconds\n",
            "\t Train Loss : 0.681 | Train BLEU : 0.5381 | Train PPL:   1.975 \n",
            "\t Val loss : 2.837 | Val BLEU: 0.2095 |Val PPL:  17.064\n",
            "Epoch : 19 | Time: 1.000 minutes ,55 seconds\n",
            "\t Train Loss : 0.631 | Train BLEU : 0.5636 | Train PPL:   1.880 \n",
            "\t Val loss : 2.941 | Val BLEU: 0.2136 |Val PPL:  18.938\n",
            "Epoch : 20 | Time: 1.000 minutes ,56 seconds\n",
            "\t Train Loss : 0.580 | Train BLEU : 0.6003 | Train PPL:   1.786 \n",
            "\t Val loss : 3.206 | Val BLEU: 0.2046 |Val PPL:  24.677\n"
          ],
          "name": "stdout"
        }
      ]
    },
    {
      "cell_type": "code",
      "metadata": {
        "colab": {
          "base_uri": "https://localhost:8080/"
        },
        "id": "QLDsH2vJQwoU",
        "outputId": "18f3c162-6ec7-458d-9454-eb1c012f104a"
      },
      "source": [
        "# Testing the model\n",
        "import spacy\n",
        "nlp = spacy.load('en')\n",
        "\n",
        "best_model_at = 'english-german-seq2seq.pt'\n",
        "model.load_state_dict(torch.load(best_model_at))\n",
        "model.eval()\n",
        "\n",
        "# src stoi vocab\n",
        "src_token_file = open(\"source.pkl\",'rb')\n",
        "src_vocab = pickle.load(src_token_file)\n",
        "\n",
        "\n",
        "# target stoi vocab\n",
        "trg_tokens_file = open('target_stoi.pkl','rb')\n",
        "trg_stoi = pickle.load(trg_tokens_file)\n",
        "\n",
        "# target itos vocab\n",
        "trg_token_file = open(\"target_itos.pkl\",'rb')\n",
        "trg_itos = pickle.load(trg_token_file)\n",
        "\n",
        "\n",
        "# Creating src tensor\n",
        "custom_src_ = \"A boy was swimming in the river.\"\n",
        "tokenized_custom_src = [i.text.lower() for i in nlp.tokenizer(custom_src_)]\n",
        "print(tokenized_custom_src)\n",
        "tokenized_custom_src = ['<sos>'] + tokenized_custom_src +['<eos>']\n",
        "custom_src = [src_vocab[i] for i in tokenized_custom_src]\n",
        "custom_src = torch.LongTensor(custom_src).to(device).unsqueeze(1)\n",
        "custom_src_len = torch.LongTensor([len(custom_src)]).to(device)\n",
        "\n",
        "# Creating trg tensor\n",
        "eval_trg_len = 15\n",
        "trg_seq = [trg_stoi['<sos>']]\n",
        "# There are two option to proceed. Pass src and trg to model.forward() or step by step model.encoder() and model.decoder(). With the second\n",
        "# you can visualize attention\n",
        "\n",
        "with torch.no_grad():\n",
        "  encoder_outputs, hidden = model.encoder(custom_src,custom_src_len)\n",
        "\n",
        "mask = model.create_mask(custom_src)\n",
        "\n",
        "attentions = []\n",
        "outputs = []\n",
        "\n",
        "for i in range(eval_trg_len): # Could have used range(eval_trg_len)\n",
        "  with torch.no_grad():\n",
        "    trg_tensor = torch.LongTensor([trg_seq[-1]]).to(device)\n",
        "    output, hidden,attention = model.decoder(trg_tensor,hidden,encoder_outputs,mask)\n",
        "  attentions.append(attention)\n",
        "  pred_token = output.argmax(1).item()\n",
        "  trg_seq.append(pred_token)\n",
        "\n",
        "  if pred_token == trg_stoi['<eos>']:\n",
        "    break\n",
        "\n",
        "attentions = torch.cat(attentions).to(device)\n",
        "translation = [trg_itos[i] for i in trg_seq]\n",
        "translation_joined = \" \".join(trg_itos[i] for i in trg_seq[1:-1][::-1])\n",
        "print(f\" German translation : {translation_joined}\")"
      ],
      "execution_count": 59,
      "outputs": [
        {
          "output_type": "stream",
          "text": [
            "['a', 'boy', 'was', 'swimming', 'in', 'the', 'river', '.']\n",
            " German translation : ein junge , der in im fluss schwimmt .\n"
          ],
          "name": "stdout"
        }
      ]
    },
    {
      "cell_type": "code",
      "metadata": {
        "colab": {
          "base_uri": "https://localhost:8080/",
          "height": 650
        },
        "id": "GkNlzfquQz7f",
        "outputId": "48a6a7d7-69f7-419b-9ca2-f74d1543313c"
      },
      "source": [
        "# Printing Attention vector\n",
        "import matplotlib.pyplot as plt \n",
        "import matplotlib.ticker as ticker\n",
        "def display_attention(sentence,translation,attention):\n",
        "  fig = plt.figure(figsize=(10,10))\n",
        "  ax = fig.add_subplot(111)\n",
        "\n",
        "  attention = attention.squeeze(1).cpu().detach().numpy()\n",
        "\n",
        "  cax = ax.matshow(attention, cmap='bone')\n",
        "\n",
        "  ax.tick_params(labelsize=15)\n",
        "  ax.set_xticklabels(['']+[t for t in tokenized_custom_src],rotation=45)\n",
        "  ax.set_yticklabels(['']+ [t for t in translation])\n",
        "\n",
        "  ax.xaxis.set_major_locator(ticker.MultipleLocator(1))\n",
        "  ax.yaxis.set_major_locator(ticker.MultipleLocator(1))\n",
        "\n",
        "  plt.show()\n",
        "  plt.close()\n",
        "\n",
        "display_attention(custom_src_,translation,attentions)"
      ],
      "execution_count": 60,
      "outputs": [
        {
          "output_type": "display_data",
          "data": {
            "image/png": "[encoded data removed]",
            "text/plain": [
              "<Figure size 720x720 with 1 Axes>"
            ]
          },
          "metadata": {
            "tags": [],
            "needs_background": "light"
          }
        }
      ]
    }
  ]
}